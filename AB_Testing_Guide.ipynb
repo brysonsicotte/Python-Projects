{
 "cells": [
  {
   "cell_type": "markdown",
   "id": "a8711297",
   "metadata": {},
   "source": [
    "This was produced as part of a code-along of an A/B testing guide created by Github user \"renatofillinich\". Alterations have been made to the original source material./n"
    "https://github.com/renatofillinich/ab_test_guide_in_python/blob/master/AB%20testing%20with%20Python.ipynb"
   ]
  },
  {
   "cell_type": "code",
   "execution_count": 2,
   "id": "d57d1384",
   "metadata": {},
   "outputs": [],
   "source": [
    "# import the packages\n",
    "import numpy as np\n",
    "import pandas as pd\n",
    "import scipy.stats as stats\n",
    "import statsmodels.stats.api as sms\n",
    "import matplotlib.pyplot as plt\n",
    "import seaborn as sns\n",
    "from math import ceil\n",
    "\n",
    "%matplotlib inline"
   ]
  },
  {
   "cell_type": "markdown",
   "id": "e6d11e51",
   "metadata": {},
   "source": [
    "##### Determine how many observations are needed\n",
    "Find out how many observations are needed in both samples in order to get a statistically significant result."
   ]
  },
  {
   "cell_type": "code",
   "execution_count": 3,
   "id": "394e48d9",
   "metadata": {},
   "outputs": [
    {
     "name": "stdout",
     "output_type": "stream",
     "text": [
      "4720\n"
     ]
    }
   ],
   "source": [
    "# NormalIndPower().solve_power() solves for any one parameter of the power of a two sample z-test\n",
    "\n",
    "effect_size = sms.proportion_effectsize(0.13, 0.15) # the effect size comes from the old conv rate and the goal conv rate.\n",
    "# note for further research - find out how this effect size is calculated with no SD's. Cohen's h?\n",
    "\n",
    "required_n = sms.NormalIndPower().solve_power(\n",
    "    effect_size=effect_size,\n",
    "    power=0.8,\n",
    "    alpha=0.05,\n",
    "    ratio=1\n",
    "    )\n",
    "# try this function with a two sample t-test for comparison\n",
    "\n",
    "required_n = ceil(required_n)\n",
    "print(required_n)"
   ]
  },
  {
   "cell_type": "markdown",
   "id": "16357144",
   "metadata": {},
   "source": [
    "With a power of 0.8 we have an 80% probability of rejecting the null hypothesis when the null hypothesis is false. To increase these odds, we can increase the sample size."
   ]
  },
  {
   "cell_type": "markdown",
   "id": "19da455b",
   "metadata": {},
   "source": [
    "##### Import and clean the data\n",
    "Simulate gathering data for the test by using data provided by Kaggle.\n",
    "https://www.kaggle.com/datasets/zhangluyuan/ab-testing?resource=download"
   ]
  },
  {
   "cell_type": "code",
   "execution_count": 4,
   "id": "716a9228",
   "metadata": {},
   "outputs": [
    {
     "data": {
      "text/html": [
       "<div>\n",
       "<style scoped>\n",
       "    .dataframe tbody tr th:only-of-type {\n",
       "        vertical-align: middle;\n",
       "    }\n",
       "\n",
       "    .dataframe tbody tr th {\n",
       "        vertical-align: top;\n",
       "    }\n",
       "\n",
       "    .dataframe thead th {\n",
       "        text-align: right;\n",
       "    }\n",
       "</style>\n",
       "<table border=\"1\" class=\"dataframe\">\n",
       "  <thead>\n",
       "    <tr style=\"text-align: right;\">\n",
       "      <th></th>\n",
       "      <th>user_id</th>\n",
       "      <th>timestamp</th>\n",
       "      <th>group</th>\n",
       "      <th>landing_page</th>\n",
       "      <th>converted</th>\n",
       "    </tr>\n",
       "  </thead>\n",
       "  <tbody>\n",
       "    <tr>\n",
       "      <th>0</th>\n",
       "      <td>851104</td>\n",
       "      <td>2017-01-21 22:11:48.556739</td>\n",
       "      <td>control</td>\n",
       "      <td>old_page</td>\n",
       "      <td>0</td>\n",
       "    </tr>\n",
       "    <tr>\n",
       "      <th>1</th>\n",
       "      <td>804228</td>\n",
       "      <td>2017-01-12 08:01:45.159739</td>\n",
       "      <td>control</td>\n",
       "      <td>old_page</td>\n",
       "      <td>0</td>\n",
       "    </tr>\n",
       "    <tr>\n",
       "      <th>2</th>\n",
       "      <td>661590</td>\n",
       "      <td>2017-01-11 16:55:06.154213</td>\n",
       "      <td>treatment</td>\n",
       "      <td>new_page</td>\n",
       "      <td>0</td>\n",
       "    </tr>\n",
       "  </tbody>\n",
       "</table>\n",
       "</div>"
      ],
      "text/plain": [
       "   user_id                   timestamp      group landing_page  converted\n",
       "0   851104  2017-01-21 22:11:48.556739    control     old_page          0\n",
       "1   804228  2017-01-12 08:01:45.159739    control     old_page          0\n",
       "2   661590  2017-01-11 16:55:06.154213  treatment     new_page          0"
      ]
     },
     "execution_count": 4,
     "metadata": {},
     "output_type": "execute_result"
    }
   ],
   "source": [
    "df = pd.read_csv('ab_data.csv')\n",
    "\n",
    "df.head(3)"
   ]
  },
  {
   "cell_type": "code",
   "execution_count": 5,
   "id": "fdb45f49",
   "metadata": {},
   "outputs": [
    {
     "name": "stdout",
     "output_type": "stream",
     "text": [
      "<class 'pandas.core.frame.DataFrame'>\n",
      "RangeIndex: 294478 entries, 0 to 294477\n",
      "Data columns (total 5 columns):\n",
      " #   Column        Non-Null Count   Dtype \n",
      "---  ------        --------------   ----- \n",
      " 0   user_id       294478 non-null  int64 \n",
      " 1   timestamp     294478 non-null  object\n",
      " 2   group         294478 non-null  object\n",
      " 3   landing_page  294478 non-null  object\n",
      " 4   converted     294478 non-null  int64 \n",
      "dtypes: int64(2), object(3)\n",
      "memory usage: 11.2+ MB\n"
     ]
    }
   ],
   "source": [
    "df.info()"
   ]
  },
  {
   "cell_type": "code",
   "execution_count": 6,
   "id": "c4774c75",
   "metadata": {
    "scrolled": true
   },
   "outputs": [
    {
     "data": {
      "text/html": [
       "<div>\n",
       "<style scoped>\n",
       "    .dataframe tbody tr th:only-of-type {\n",
       "        vertical-align: middle;\n",
       "    }\n",
       "\n",
       "    .dataframe tbody tr th {\n",
       "        vertical-align: top;\n",
       "    }\n",
       "\n",
       "    .dataframe thead th {\n",
       "        text-align: right;\n",
       "    }\n",
       "</style>\n",
       "<table border=\"1\" class=\"dataframe\">\n",
       "  <thead>\n",
       "    <tr style=\"text-align: right;\">\n",
       "      <th>landing_page</th>\n",
       "      <th>new_page</th>\n",
       "      <th>old_page</th>\n",
       "    </tr>\n",
       "    <tr>\n",
       "      <th>group</th>\n",
       "      <th></th>\n",
       "      <th></th>\n",
       "    </tr>\n",
       "  </thead>\n",
       "  <tbody>\n",
       "    <tr>\n",
       "      <th>control</th>\n",
       "      <td>1928</td>\n",
       "      <td>145274</td>\n",
       "    </tr>\n",
       "    <tr>\n",
       "      <th>treatment</th>\n",
       "      <td>145311</td>\n",
       "      <td>1965</td>\n",
       "    </tr>\n",
       "  </tbody>\n",
       "</table>\n",
       "</div>"
      ],
      "text/plain": [
       "landing_page  new_page  old_page\n",
       "group                           \n",
       "control           1928    145274\n",
       "treatment       145311      1965"
      ]
     },
     "execution_count": 6,
     "metadata": {},
     "output_type": "execute_result"
    }
   ],
   "source": [
    "pd.crosstab(df['group'], df['landing_page'])"
   ]
  },
  {
   "cell_type": "code",
   "execution_count": 7,
   "id": "1b882e71",
   "metadata": {},
   "outputs": [
    {
     "data": {
      "text/plain": [
       "294478"
      ]
     },
     "execution_count": 7,
     "metadata": {},
     "output_type": "execute_result"
    }
   ],
   "source": [
    "len(df)"
   ]
  },
  {
   "cell_type": "markdown",
   "id": "0d928043",
   "metadata": {},
   "source": [
    "Remove users that have sessions on the wrong version of the website, according to the group they were assigned."
   ]
  },
  {
   "cell_type": "code",
   "execution_count": 8,
   "id": "6b51c134",
   "metadata": {},
   "outputs": [],
   "source": [
    "\n",
    "users_to_drop = df[((df.group == 'control') & (df.landing_page == 'new_page')) \n",
    "        | ((df.group == 'treatment') & (df.landing_page == 'old_page'))]['user_id']"
   ]
  },
  {
   "cell_type": "code",
   "execution_count": 9,
   "id": "398508a9",
   "metadata": {},
   "outputs": [],
   "source": [
    "df = df[-df['user_id'].isin(users_to_drop)]"
   ]
  },
  {
   "cell_type": "code",
   "execution_count": 10,
   "id": "f0cc290b",
   "metadata": {},
   "outputs": [
    {
     "data": {
      "text/plain": [
       "286692"
      ]
     },
     "execution_count": 10,
     "metadata": {},
     "output_type": "execute_result"
    }
   ],
   "source": [
    "len(df)"
   ]
  },
  {
   "cell_type": "code",
   "execution_count": 11,
   "id": "a4db8930",
   "metadata": {},
   "outputs": [
    {
     "data": {
      "text/plain": [
       "773192    2\n",
       "851104    1\n",
       "915143    1\n",
       "715222    1\n",
       "886963    1\n",
       "         ..\n",
       "683486    1\n",
       "671693    1\n",
       "875919    1\n",
       "701344    1\n",
       "715931    1\n",
       "Name: user_id, Length: 286691, dtype: int64"
      ]
     },
     "execution_count": 11,
     "metadata": {},
     "output_type": "execute_result"
    }
   ],
   "source": [
    "df['user_id'].value_counts(ascending=False)"
   ]
  },
  {
   "cell_type": "markdown",
   "id": "1613eb61",
   "metadata": {},
   "source": [
    "One user remains who happened to visit the website twice. This individual can be also be removed to maintain the integrity of the the experiment."
   ]
  },
  {
   "cell_type": "code",
   "execution_count": 12,
   "id": "23571295",
   "metadata": {},
   "outputs": [],
   "source": [
    "session_counts = df['user_id'].value_counts(ascending=False)\n",
    "users_to_drop = session_counts[session_counts > 1].index"
   ]
  },
  {
   "cell_type": "code",
   "execution_count": 13,
   "id": "d6a66e5b",
   "metadata": {},
   "outputs": [],
   "source": [
    "df = df[-df['user_id'].isin(users_to_drop)]"
   ]
  },
  {
   "cell_type": "code",
   "execution_count": 14,
   "id": "874acee6",
   "metadata": {},
   "outputs": [
    {
     "data": {
      "text/plain": [
       "286690"
      ]
     },
     "execution_count": 14,
     "metadata": {},
     "output_type": "execute_result"
    }
   ],
   "source": [
    "len(df)"
   ]
  },
  {
   "cell_type": "markdown",
   "id": "f4c050c1",
   "metadata": {},
   "source": [
    "##### Sampling"
   ]
  },
  {
   "cell_type": "markdown",
   "id": "b9d6c351",
   "metadata": {},
   "source": [
    "Based on criteria established earlier, we need at least 4720 observations in both samples. We can increase the power (the probability that we don't make a type II error) by increasing the sample size. In the spirit of experimentation, let's try doubling it."
   ]
  },
  {
   "cell_type": "code",
   "execution_count": 15,
   "id": "f66e47e0",
   "metadata": {},
   "outputs": [],
   "source": [
    "control_sample = df[df['group'] == 'control'].sample(n=9440, random_state=7)\n",
    "treatment_sample = df[df['group'] == 'treatment'].sample(n=9440, random_state=7)\n",
    "\n",
    "ab_test = pd.concat([control_sample, treatment_sample], axis=0)\n",
    "ab_test.reset_index(drop=True, inplace=True)"
   ]
  },
  {
   "cell_type": "code",
   "execution_count": 16,
   "id": "4941a7f5",
   "metadata": {},
   "outputs": [
    {
     "data": {
      "text/html": [
       "<div>\n",
       "<style scoped>\n",
       "    .dataframe tbody tr th:only-of-type {\n",
       "        vertical-align: middle;\n",
       "    }\n",
       "\n",
       "    .dataframe tbody tr th {\n",
       "        vertical-align: top;\n",
       "    }\n",
       "\n",
       "    .dataframe thead th {\n",
       "        text-align: right;\n",
       "    }\n",
       "</style>\n",
       "<table border=\"1\" class=\"dataframe\">\n",
       "  <thead>\n",
       "    <tr style=\"text-align: right;\">\n",
       "      <th></th>\n",
       "      <th>user_id</th>\n",
       "      <th>timestamp</th>\n",
       "      <th>group</th>\n",
       "      <th>landing_page</th>\n",
       "      <th>converted</th>\n",
       "    </tr>\n",
       "  </thead>\n",
       "  <tbody>\n",
       "    <tr>\n",
       "      <th>0</th>\n",
       "      <td>907002</td>\n",
       "      <td>2017-01-23 07:10:53.019304</td>\n",
       "      <td>control</td>\n",
       "      <td>old_page</td>\n",
       "      <td>0</td>\n",
       "    </tr>\n",
       "    <tr>\n",
       "      <th>1</th>\n",
       "      <td>688556</td>\n",
       "      <td>2017-01-11 01:40:35.354380</td>\n",
       "      <td>control</td>\n",
       "      <td>old_page</td>\n",
       "      <td>0</td>\n",
       "    </tr>\n",
       "    <tr>\n",
       "      <th>2</th>\n",
       "      <td>726787</td>\n",
       "      <td>2017-01-07 10:07:50.792649</td>\n",
       "      <td>control</td>\n",
       "      <td>old_page</td>\n",
       "      <td>0</td>\n",
       "    </tr>\n",
       "    <tr>\n",
       "      <th>3</th>\n",
       "      <td>799113</td>\n",
       "      <td>2017-01-09 05:22:59.117567</td>\n",
       "      <td>control</td>\n",
       "      <td>old_page</td>\n",
       "      <td>0</td>\n",
       "    </tr>\n",
       "    <tr>\n",
       "      <th>4</th>\n",
       "      <td>827699</td>\n",
       "      <td>2017-01-06 21:01:22.485309</td>\n",
       "      <td>control</td>\n",
       "      <td>old_page</td>\n",
       "      <td>0</td>\n",
       "    </tr>\n",
       "    <tr>\n",
       "      <th>...</th>\n",
       "      <td>...</td>\n",
       "      <td>...</td>\n",
       "      <td>...</td>\n",
       "      <td>...</td>\n",
       "      <td>...</td>\n",
       "    </tr>\n",
       "    <tr>\n",
       "      <th>18875</th>\n",
       "      <td>819354</td>\n",
       "      <td>2017-01-22 17:58:38.682102</td>\n",
       "      <td>treatment</td>\n",
       "      <td>new_page</td>\n",
       "      <td>0</td>\n",
       "    </tr>\n",
       "    <tr>\n",
       "      <th>18876</th>\n",
       "      <td>882349</td>\n",
       "      <td>2017-01-24 06:15:45.722275</td>\n",
       "      <td>treatment</td>\n",
       "      <td>new_page</td>\n",
       "      <td>0</td>\n",
       "    </tr>\n",
       "    <tr>\n",
       "      <th>18877</th>\n",
       "      <td>837849</td>\n",
       "      <td>2017-01-23 18:01:55.380828</td>\n",
       "      <td>treatment</td>\n",
       "      <td>new_page</td>\n",
       "      <td>0</td>\n",
       "    </tr>\n",
       "    <tr>\n",
       "      <th>18878</th>\n",
       "      <td>926900</td>\n",
       "      <td>2017-01-19 23:17:49.755346</td>\n",
       "      <td>treatment</td>\n",
       "      <td>new_page</td>\n",
       "      <td>1</td>\n",
       "    </tr>\n",
       "    <tr>\n",
       "      <th>18879</th>\n",
       "      <td>704172</td>\n",
       "      <td>2017-01-19 23:53:24.619349</td>\n",
       "      <td>treatment</td>\n",
       "      <td>new_page</td>\n",
       "      <td>1</td>\n",
       "    </tr>\n",
       "  </tbody>\n",
       "</table>\n",
       "<p>18880 rows × 5 columns</p>\n",
       "</div>"
      ],
      "text/plain": [
       "       user_id                   timestamp      group landing_page  converted\n",
       "0       907002  2017-01-23 07:10:53.019304    control     old_page          0\n",
       "1       688556  2017-01-11 01:40:35.354380    control     old_page          0\n",
       "2       726787  2017-01-07 10:07:50.792649    control     old_page          0\n",
       "3       799113  2017-01-09 05:22:59.117567    control     old_page          0\n",
       "4       827699  2017-01-06 21:01:22.485309    control     old_page          0\n",
       "...        ...                         ...        ...          ...        ...\n",
       "18875   819354  2017-01-22 17:58:38.682102  treatment     new_page          0\n",
       "18876   882349  2017-01-24 06:15:45.722275  treatment     new_page          0\n",
       "18877   837849  2017-01-23 18:01:55.380828  treatment     new_page          0\n",
       "18878   926900  2017-01-19 23:17:49.755346  treatment     new_page          1\n",
       "18879   704172  2017-01-19 23:53:24.619349  treatment     new_page          1\n",
       "\n",
       "[18880 rows x 5 columns]"
      ]
     },
     "execution_count": 16,
     "metadata": {},
     "output_type": "execute_result"
    }
   ],
   "source": [
    "ab_test"
   ]
  },
  {
   "cell_type": "code",
   "execution_count": 17,
   "id": "7b24c65b",
   "metadata": {},
   "outputs": [
    {
     "name": "stdout",
     "output_type": "stream",
     "text": [
      "<class 'pandas.core.frame.DataFrame'>\n",
      "RangeIndex: 18880 entries, 0 to 18879\n",
      "Data columns (total 5 columns):\n",
      " #   Column        Non-Null Count  Dtype \n",
      "---  ------        --------------  ----- \n",
      " 0   user_id       18880 non-null  int64 \n",
      " 1   timestamp     18880 non-null  object\n",
      " 2   group         18880 non-null  object\n",
      " 3   landing_page  18880 non-null  object\n",
      " 4   converted     18880 non-null  int64 \n",
      "dtypes: int64(2), object(3)\n",
      "memory usage: 737.6+ KB\n"
     ]
    }
   ],
   "source": [
    "ab_test.info()"
   ]
  },
  {
   "cell_type": "code",
   "execution_count": 18,
   "id": "8abf9192",
   "metadata": {},
   "outputs": [
    {
     "data": {
      "text/plain": [
       "control      9440\n",
       "treatment    9440\n",
       "Name: group, dtype: int64"
      ]
     },
     "execution_count": 18,
     "metadata": {},
     "output_type": "execute_result"
    }
   ],
   "source": [
    "ab_test['group'].value_counts()"
   ]
  },
  {
   "cell_type": "markdown",
   "id": "9e9d5d75",
   "metadata": {},
   "source": [
    "##### Analyzing the results"
   ]
  },
  {
   "cell_type": "code",
   "execution_count": 19,
   "id": "d36627b0",
   "metadata": {},
   "outputs": [
    {
     "data": {
      "text/html": [
       "<div>\n",
       "<style scoped>\n",
       "    .dataframe tbody tr th:only-of-type {\n",
       "        vertical-align: middle;\n",
       "    }\n",
       "\n",
       "    .dataframe tbody tr th {\n",
       "        vertical-align: top;\n",
       "    }\n",
       "\n",
       "    .dataframe thead th {\n",
       "        text-align: right;\n",
       "    }\n",
       "</style>\n",
       "<table border=\"1\" class=\"dataframe\">\n",
       "  <thead>\n",
       "    <tr style=\"text-align: right;\">\n",
       "      <th></th>\n",
       "      <th>conversion_rate</th>\n",
       "      <th>std_deviation</th>\n",
       "      <th>std_error</th>\n",
       "    </tr>\n",
       "    <tr>\n",
       "      <th>group</th>\n",
       "      <th></th>\n",
       "      <th></th>\n",
       "      <th></th>\n",
       "    </tr>\n",
       "  </thead>\n",
       "  <tbody>\n",
       "    <tr>\n",
       "      <th>control</th>\n",
       "      <td>0.125106</td>\n",
       "      <td>0.330839</td>\n",
       "      <td>0.003405</td>\n",
       "    </tr>\n",
       "    <tr>\n",
       "      <th>treatment</th>\n",
       "      <td>0.121292</td>\n",
       "      <td>0.326467</td>\n",
       "      <td>0.003360</td>\n",
       "    </tr>\n",
       "  </tbody>\n",
       "</table>\n",
       "</div>"
      ],
      "text/plain": [
       "           conversion_rate  std_deviation  std_error\n",
       "group                                               \n",
       "control           0.125106       0.330839   0.003405\n",
       "treatment         0.121292       0.326467   0.003360"
      ]
     },
     "execution_count": 19,
     "metadata": {},
     "output_type": "execute_result"
    }
   ],
   "source": [
    "conversion_rates = ab_test.groupby('group')['converted']\n",
    "\n",
    "std_p = lambda x: np.std(x, ddof=0)\n",
    "se_p = lambda x: stats.sem(x, ddof=0)\n",
    "\n",
    "conversion_rates = conversion_rates.agg([np.mean, std_p, se_p])\n",
    "conversion_rates.columns = ['conversion_rate', 'std_deviation', 'std_error']\n",
    "\n",
    "conversion_rates"
   ]
  },
  {
   "cell_type": "code",
   "execution_count": 20,
   "id": "262bdf5b",
   "metadata": {},
   "outputs": [
    {
     "data": {
      "text/plain": [
       "Text(0, 0.5, '')"
      ]
     },
     "execution_count": 20,
     "metadata": {},
     "output_type": "execute_result"
    },
    {
     "data": {
      "image/png": "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\n",
      "text/plain": [
       "<Figure size 576x432 with 1 Axes>"
      ]
     },
     "metadata": {
      "needs_background": "light"
     },
     "output_type": "display_data"
    }
   ],
   "source": [
    "plt.figure(figsize=(8, 6))\n",
    "\n",
    "sns.barplot(x=ab_test['group'], y=ab_test['converted'], ci=False)\n",
    "\n",
    "plt.ylim(0, 0.17)\n",
    "plt.title('Conversion rate by group', pad=20)\n",
    "plt.xlabel('Group', labelpad=15)\n",
    "plt.ylabel(None)"
   ]
  },
  {
   "cell_type": "code",
   "execution_count": 21,
   "id": "bac95357",
   "metadata": {},
   "outputs": [],
   "source": [
    "from statsmodels.stats.proportion import proportions_ztest, proportion_confint"
   ]
  },
  {
   "cell_type": "code",
   "execution_count": 22,
   "id": "8a3f9c47",
   "metadata": {},
   "outputs": [],
   "source": [
    "control_results = ab_test[ab_test['group'] == 'control']['converted']\n",
    "treatment_results = ab_test[ab_test['group'] == 'treatment']['converted']"
   ]
  },
  {
   "cell_type": "code",
   "execution_count": 23,
   "id": "f8b6cf79",
   "metadata": {},
   "outputs": [
    {
     "name": "stdout",
     "output_type": "stream",
     "text": [
      "z statistic: 0.80\n",
      "p-value: 0.425\n",
      "ci 95% for control group: [0.118, 0.132]\n",
      "ci 95% for treatment group: [0.115, 0.128]\n"
     ]
    }
   ],
   "source": [
    "n_control = control_results.count()\n",
    "n_treatment = treatment_results.count()\n",
    "n_conversions = [control_results.sum(), treatment_results.sum()]\n",
    "n_obs = [n_control, n_treatment]\n",
    "\n",
    "z_stat, pval = proportions_ztest(n_conversions, n_obs)\n",
    "(lower_con, lower_treat),(upper_con, upper_treat) = proportion_confint(n_conversions, nobs=n_obs, alpha=0.05)\n",
    "\n",
    "print(f'z statistic: {z_stat:.2f}')\n",
    "print(f'p-value: {pval:.3f}')\n",
    "print(f\"ci 95% for control group: [{lower_con:.3f}, {upper_con:.3f}]\")\n",
    "print(f\"ci 95% for treatment group: [{lower_treat:.3f}, {upper_treat:.3f}]\")"
   ]
  },
  {
   "cell_type": "markdown",
   "id": "b68f2fd3",
   "metadata": {},
   "source": [
    " ##### Conclusion\n",
    " Our p-value=0.425 is way above our alpha (0.05). We cannot reject the null hypothesis. The new design is not significantly better than the old one.\n",
    " \n",
    " On the contrary, the confidence interval for the treatment does not even include our baseline conversion rate of 13%. So it may be that we can conclude that the treatment is significantly worse than the baseline. Before making this conclusion however, it would be prudent to recheck the baseline, because 13% is near the edge of the confidence interval for even the control group."
   ]
  }
 ],
 "metadata": {
  "kernelspec": {
   "display_name": "Python 3 (ipykernel)",
   "language": "python",
   "name": "python3"
  },
  "language_info": {
   "codemirror_mode": {
    "name": "ipython",
    "version": 3
   },
   "file_extension": ".py",
   "mimetype": "text/x-python",
   "name": "python",
   "nbconvert_exporter": "python",
   "pygments_lexer": "ipython3",
   "version": "3.9.12"
  }
 },
 "nbformat": 4,
 "nbformat_minor": 5
}
